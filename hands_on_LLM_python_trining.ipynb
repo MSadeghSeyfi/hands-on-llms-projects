{
  "nbformat": 4,
  "nbformat_minor": 0,
  "metadata": {
    "colab": {
      "provenance": [],
      "authorship_tag": "ABX9TyP0VVQx+JQkQK3rZk4bj4r7",
      "include_colab_link": true
    },
    "kernelspec": {
      "name": "python3",
      "display_name": "Python 3"
    },
    "language_info": {
      "name": "python"
    }
  },
  "cells": [
    {
      "cell_type": "markdown",
      "metadata": {
        "id": "view-in-github",
        "colab_type": "text"
      },
      "source": [
        "<a href=\"https://colab.research.google.com/github/MSadeghSeyfi/hands-on-llms-projects/blob/Add_Files/hands_on_LLM_python_trining.ipynb\" target=\"_parent\"><img src=\"https://colab.research.google.com/assets/colab-badge.svg\" alt=\"Open In Colab\"/></a>"
      ]
    },
    {
      "cell_type": "code",
      "execution_count": 2,
      "metadata": {
        "colab": {
          "base_uri": "https://localhost:8080/"
        },
        "id": "H-A8AcX6EOju",
        "outputId": "c966e0a9-6385-40df-b548-8e97b9326c59"
      },
      "outputs": [
        {
          "output_type": "stream",
          "name": "stdout",
          "text": [
            "{1: 1, 2: 8, 3: 27, 4: 64, 5: 125}\n"
          ]
        }
      ],
      "source": [
        "nums = [1, 2, 3, 4, 5]\n",
        "squre_dict = {x : x**3 for x in nums}\n",
        "print(squre_dict)"
      ]
    },
    {
      "cell_type": "code",
      "source": [
        "num0t20 = [x for x in range(20) if x % 3 == 0]\n",
        "print(num0t20)"
      ],
      "metadata": {
        "colab": {
          "base_uri": "https://localhost:8080/"
        },
        "id": "VgBouKjuFiYh",
        "outputId": "78772599-7854-4b84-ccf5-6b20c95baf58"
      },
      "execution_count": 7,
      "outputs": [
        {
          "output_type": "stream",
          "name": "stdout",
          "text": [
            "[0, 3, 6, 9, 12, 15, 18]\n"
          ]
        }
      ]
    },
    {
      "cell_type": "code",
      "source": [
        "keys = [\"a\" ,\"bcd\", \"cdd\", \"abcde\"]\n",
        "dict_lenth = {x : len(x) for x in keys}\n",
        "print(dict_lenth)"
      ],
      "metadata": {
        "colab": {
          "base_uri": "https://localhost:8080/"
        },
        "id": "vcFA_jf_GOh0",
        "outputId": "a477230e-6c61-4b6e-8208-ae5d4a871965"
      },
      "execution_count": 10,
      "outputs": [
        {
          "output_type": "stream",
          "name": "stdout",
          "text": [
            "{'a': 1, 'bcd': 3, 'cdd': 3, 'abcde': 5}\n"
          ]
        }
      ]
    },
    {
      "cell_type": "code",
      "source": [
        "def show_inf(**kwargs):\n",
        "  for key, value in kwargs.items():\n",
        "      print(f\"{key} : {value}\")\n",
        "\n",
        "show_inf(age=\"23\", year=\"2019\", color=\"white\")"
      ],
      "metadata": {
        "colab": {
          "base_uri": "https://localhost:8080/"
        },
        "id": "fNCM1SyAGzEc",
        "outputId": "638eabfc-24fe-4a75-ae04-08e7449fbd77"
      },
      "execution_count": 16,
      "outputs": [
        {
          "output_type": "stream",
          "name": "stdout",
          "text": [
            "age : 23\n",
            "year : 2019\n",
            "color : white\n"
          ]
        }
      ]
    },
    {
      "cell_type": "code",
      "source": [
        "Alphabets = [\"a\", \"b\", \"adib\", \"sadegh\"]\n",
        "\n",
        "def Bigger_words(func, Alphabets):\n",
        "  return list(map(func, Alphabets))\n",
        "\n",
        "print(Bigger_words(lambda x : x.upper(),Alphabets))"
      ],
      "metadata": {
        "colab": {
          "base_uri": "https://localhost:8080/"
        },
        "id": "PAmcLFqZNjsN",
        "outputId": "48cb086e-e5c8-44a2-c8ab-9e91c9b6ca8c"
      },
      "execution_count": 19,
      "outputs": [
        {
          "output_type": "stream",
          "name": "stdout",
          "text": [
            "['A', 'B', 'ADIB', 'SADEGH']\n"
          ]
        }
      ]
    },
    {
      "cell_type": "code",
      "source": [
        "class car:\n",
        "  def __init__(self, color, model):\n",
        "    self.model = model\n",
        "    self.color = color\n",
        "\n",
        "  def represent(self):\n",
        "    print(f\"car color is {self.color} and car model is {self.model}\")\n",
        "\n",
        "bmw = car(\"red\",\"bmw\")\n",
        "bmw.represent()"
      ],
      "metadata": {
        "colab": {
          "base_uri": "https://localhost:8080/"
        },
        "id": "KanLH_UpRi__",
        "outputId": "3fdaf339-7c26-4ab6-e7eb-d3405e044fbd"
      },
      "execution_count": 23,
      "outputs": [
        {
          "output_type": "stream",
          "name": "stdout",
          "text": [
            "car color is red and car model is bmw\n"
          ]
        }
      ]
    },
    {
      "cell_type": "code",
      "source": [
        "class student:\n",
        "  def __init__(self,name,discipline):\n",
        "    self.name=name\n",
        "    self.discipline=discipline\n",
        "\n",
        "  def represent(self):\n",
        "    print(f\"name is {self.name} , discipline is {self.discipline}\")\n",
        "\n",
        "class master_student(student):\n",
        "  def __init__(self,name,discipline,grade):\n",
        "    super().__init__(name,discipline)\n",
        "    self.grade=grade\n",
        "\n",
        "  def represent(self):\n",
        "    super().represent()\n",
        "    print(f\"and grade is {self.grade}\")\n",
        "\n",
        "sadegh_student = student(\"sadegh\",\"Computer Engineering\")\n",
        "sadegh_student.represent()\n",
        "\n",
        "master_sadegh = master_student(\"sadegh seyfi\",\"Computer Engineering\",\"19.5\")\n",
        "master_sadegh.represent()"
      ],
      "metadata": {
        "colab": {
          "base_uri": "https://localhost:8080/"
        },
        "id": "J01gUhezRzYe",
        "outputId": "f1f83dd3-c284-4190-c2b8-d21104b331d9"
      },
      "execution_count": 27,
      "outputs": [
        {
          "output_type": "stream",
          "name": "stdout",
          "text": [
            "name is sadegh , discipline is Computer Engineering\n",
            "name is sadegh seyfi , discipline is Computer Engineering\n",
            "and grade is 19.5\n"
          ]
        }
      ]
    }
  ]
}